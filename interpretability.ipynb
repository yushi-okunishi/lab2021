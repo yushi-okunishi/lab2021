{
 "cells": [
  {
   "cell_type": "markdown",
   "id": "9201b14f-062e-4ce8-bd45-50f3b12c359a",
   "metadata": {},
   "source": [
    "# Neural Network"
   ]
  },
  {
   "cell_type": "code",
   "execution_count": null,
   "id": "6e48d79d-33ae-40b3-855a-7b3906c684f6",
   "metadata": {},
   "outputs": [],
   "source": [
    "batch_size = 32\n",
    "nb_epoch = 2000\n",
    "feature_col = [\n",
    "    \"coat\", \"D\", \"Rc\", \"l\", \"lu\", \"DN\", \"Lf\", \"Ds\",\n",
    "    \"z\", \"Theta\", \"HRC\"\n",
    "] #mut be list\n",
    "target_col = [\"S\"]\n",
    "source_dir = \"../catalog_data\"\n",
    "files = [\n",
    "    \"d1_soku.csv\", #A\n",
    "    \"d2_soku.csv\", #B\n",
    "    \"d3_soku.csv\", #C\n",
    "    #\"d4_soku.csv\", #D\n",
    "    #\"d5_soku.csv\", #E\n",
    "]\n",
    "input_num = len(feature_col)\n",
    "hidden_num = 16\n",
    "output_num = len(target_col)"
   ]
  },
  {
   "cell_type": "code",
   "execution_count": 98,
   "id": "c494425d-d998-4150-bbe2-3ea72ba083f2",
   "metadata": {},
   "outputs": [],
   "source": [
    "import torch\n",
    "from torch import nn\n",
    "\n",
    "from model import SimpleNN\n",
    "from dataset import CatalogDataset"
   ]
  },
  {
   "cell_type": "code",
   "execution_count": 121,
   "id": "a62fc519-ee99-4436-9362-be47dbe722de",
   "metadata": {
    "tags": []
   },
   "outputs": [],
   "source": [
    "model = SimpleNN(\n",
    "    input_num = input_num,\n",
    "    hidden_num = hidden_num,\n",
    "    output_num = output_num\n",
    ")"
   ]
  },
  {
   "cell_type": "code",
   "execution_count": 122,
   "id": "cf4c8253-3941-4f9c-bab8-0a7b4b32f0a8",
   "metadata": {},
   "outputs": [],
   "source": [
    "criterion = nn.MSELoss()\n",
    "optimizer = torch.optim.Adam(model.parameters(), lr=0.0001)"
   ]
  },
  {
   "cell_type": "code",
   "execution_count": 123,
   "id": "77bf1493-f8f3-41b9-890a-07d4948ecc07",
   "metadata": {},
   "outputs": [
    {
     "name": "stdout",
     "output_type": "stream",
     "text": [
      "dataset shape x: torch.Size([3524, 11]), y: torch.Size([3524, 1])\n",
      "100 0.0028837536999678894\n",
      "200 0.0019244978496456636\n",
      "300 0.0015986721610298028\n",
      "400 0.001419560241432722\n",
      "500 0.0012819402378423743\n",
      "600 0.0012062225407692142\n",
      "700 0.001151084303372143\n",
      "800 0.0010814922001094321\n",
      "900 0.0010448363673850173\n",
      "1000 0.0009802928826822019\n",
      "1100 0.0009336938229672661\n",
      "1200 0.0009048267497459787\n",
      "1300 0.0008758725577478741\n",
      "1400 0.0008467291968167751\n",
      "1500 0.0008486500220962691\n",
      "1600 0.0008102294823484126\n",
      "1700 0.0007934168755676732\n",
      "1800 0.0007833116145087155\n",
      "1900 0.0007730926767066079\n",
      "2000 0.000766419703362411\n"
     ]
    }
   ],
   "source": [
    "dataset = CatalogDataset(\n",
    "    src_dir = source_dir,\n",
    "    feature_col = feature_col,\n",
    "    targets = target_col,\n",
    "    files = files\n",
    ")\n",
    "dataloader = torch.utils.data.DataLoader(\n",
    "    dataset,\n",
    "    batch_size = batch_size,\n",
    "    shuffle = True\n",
    ")\n",
    "\n",
    "losses = []\n",
    "for e in range(nb_epoch):\n",
    "    epoch_loss = 0\n",
    "    iter_count = 0\n",
    "    for x, y in dataloader:\n",
    "        iter_count += 1\n",
    "        optimizer.zero_grad()\n",
    "        \n",
    "        pred = model(x)\n",
    "        #print(pred.shape, y.shape)\n",
    "        loss = criterion(pred, y)\n",
    "        loss.backward()\n",
    "        optimizer.step()\n",
    "        \n",
    "        epoch_loss += loss.item()\n",
    "    losses.append(epoch_loss / iter_count)\n",
    "    if (e+1) % 100 == 0:\n",
    "        print(e+1, losses[-1])"
   ]
  },
  {
   "cell_type": "code",
   "execution_count": 124,
   "id": "742e7f6d-548c-42b1-a68b-35391dbd178b",
   "metadata": {},
   "outputs": [
    {
     "name": "stdout",
     "output_type": "stream",
     "text": [
      "dataset shape x: torch.Size([3524, 11]), y: torch.Size([3524, 1])\n"
     ]
    }
   ],
   "source": [
    "#files = [\n",
    "#    \"d1_soku.csv\", #A\n",
    "    #\"d2_soku.csv\", #B\n",
    "#]\n",
    "dataset = dataset = CatalogDataset(\n",
    "    src_dir = source_dir,\n",
    "    feature_col = feature_col,\n",
    "    targets = target_col,\n",
    "    files = files\n",
    ")\n",
    "dataloader = torch.utils.data.DataLoader(\n",
    "    dataset,\n",
    "    batch_size = batch_size,\n",
    "    shuffle = False\n",
    ")\n",
    "model.eval()\n",
    "all_y = []\n",
    "all_pred = []\n",
    "with torch.no_grad():\n",
    "    for x, y in dataloader:\n",
    "        iter_count += 1\n",
    "        pred = model(x)\n",
    "        all_y.extend(y)\n",
    "        all_pred.extend(pred)"
   ]
  },
  {
   "cell_type": "code",
   "execution_count": 125,
   "id": "5644f728-ba61-47f8-a652-88f6c2b41c3d",
   "metadata": {},
   "outputs": [],
   "source": [
    "all_y = torch.Tensor(all_y)\n",
    "all_pred = torch.Tensor(all_pred)"
   ]
  },
  {
   "cell_type": "code",
   "execution_count": 126,
   "id": "eab7dbdb-0f36-4e47-a467-18092ec8b9c0",
   "metadata": {},
   "outputs": [
    {
     "name": "stdout",
     "output_type": "stream",
     "text": [
      "3524 3524\n"
     ]
    }
   ],
   "source": [
    "print(len(all_y), len(all_pred))"
   ]
  },
  {
   "cell_type": "code",
   "execution_count": 127,
   "id": "3b3229f1-8e61-4713-9553-70bf9ab101c8",
   "metadata": {},
   "outputs": [],
   "source": [
    "# reverse Scaling\n",
    "all_y = torch.Tensor(all_y) * (dataset.trans.y_max - dataset.trans.y_min) + dataset.trans.y_min\n",
    "all_pred = torch.Tensor(all_pred) * (dataset.trans.y_max - dataset.trans.y_min) + dataset.trans.y_min"
   ]
  },
  {
   "cell_type": "code",
   "execution_count": 106,
   "id": "5341afa5-4afc-4fee-85a4-cdbee9b26d92",
   "metadata": {},
   "outputs": [],
   "source": [
    "import matplotlib.pyplot as plt"
   ]
  },
  {
   "cell_type": "code",
   "execution_count": 128,
   "id": "468157a5-6462-4217-8a7a-36671e9d0916",
   "metadata": {},
   "outputs": [],
   "source": [
    "plt.rcParams[\"font.family\"] = \"Times New Roman\" \n",
    "plt.rcParams['xtick.direction'] = 'in'\n",
    "plt.rcParams['ytick.direction'] = 'in'"
   ]
  },
  {
   "cell_type": "code",
   "execution_count": 129,
   "id": "82f6d2e9-dcfb-4325-9554-91b03d95d793",
   "metadata": {},
   "outputs": [
    {
     "data": {
      "image/png": "[encoded data removed]",
      "text/plain": [
       "<Figure size 432x288 with 1 Axes>"
      ]
     },
     "metadata": {
      "needs_background": "light"
     },
     "output_type": "display_data"
    }
   ],
   "source": [
    "plt.figure()\n",
    "plt.locator_params(axis='y',nbins=6)\n",
    "plt.locator_params(axis='x',nbins=6)\n",
    "plt.xlabel(\"Catalog Value S [rpm]\", fontsize=18)\n",
    "plt.ylabel(\"Predicted Value S [rpm]\", fontsize=18)\n",
    "plt.scatter(list(all_y), list(all_pred),\n",
    "            s=10,\n",
    "            facecolor='None',\n",
    "            edgecolor=\"black\",\n",
    "           )\n",
    "plt.plot((0, dataset.trans.y_max[0]), (0, dataset.trans.y_max[0]), c=\"red\")\n",
    "plt.grid()\n",
    "plt.tick_params(labelsize=18)\n",
    "plt.savefig(\"results/A-B-C_data_6_3.png\", dpi=200, bbox_inches='tight', pad_inches=0.1)"
   ]
  },
  {
   "cell_type": "code",
   "execution_count": 130,
   "id": "9778e693-fca7-45f0-a54d-a1c586551457",
   "metadata": {},
   "outputs": [],
   "source": [
    "from captum.attr import IntegratedGradients"
   ]
  },
  {
   "cell_type": "code",
   "execution_count": 131,
   "id": "19159102-4eca-404a-b496-10feff067cc9",
   "metadata": {},
   "outputs": [
    {
     "name": "stdout",
     "output_type": "stream",
     "text": [
      "torch.Size([3524, 1]) torch.Size([3524, 11])\n"
     ]
    }
   ],
   "source": [
    "print(dataset.targets.shape, dataset.features.shape)"
   ]
  },
  {
   "cell_type": "code",
   "execution_count": 60,
   "id": "4fc909ed-4bb7-40ee-aef4-078cd4a30a2a",
   "metadata": {},
   "outputs": [],
   "source": [
    "torch.save(model.state_dict(), \"weights/6_3_ABC_0_00054.pth\")"
   ]
  },
  {
   "cell_type": "code",
   "execution_count": 132,
   "id": "c5a81a46-736b-405a-bd34-61b3d6b8b9fc",
   "metadata": {
    "tags": []
   },
   "outputs": [],
   "source": [
    "ig = IntegratedGradients(model)\n",
    "baseline = dataset.targets\n",
    "\"\"\"\n",
    "pred_all = []\n",
    "with torch.no_grad():\n",
    "    for i in range((len(dataset.features) + batch_size - 1) // batch_size):\n",
    "        ed = (i+1)*batch_size\n",
    "        if ed > len(dataset.features):\n",
    "            ed = len(dataset.features)\n",
    "        pred = model(dataset.features[i*batch_size : ed])\n",
    "        pred_all.extend(pred)     \n",
    "pred_all = torch.Tensor(pred_all)\n",
    "\"\"\"\n",
    "attributions = ig.attribute(\n",
    "    dataset.features, \n",
    "    torch.zeros_like(dataset.features))"
   ]
  },
  {
   "cell_type": "code",
   "execution_count": 133,
   "id": "0cdbad49-e8e0-4481-8de0-7bf15df2a7c0",
   "metadata": {},
   "outputs": [
    {
     "name": "stdout",
     "output_type": "stream",
     "text": [
      "torch.Size([3524, 11])\n"
     ]
    }
   ],
   "source": [
    "print(attributions.shape)"
   ]
  },
  {
   "cell_type": "code",
   "execution_count": 134,
   "id": "96b1191a-67eb-4504-b7ae-f7b1f2a1ba87",
   "metadata": {},
   "outputs": [],
   "source": [
    "attr_summary = attributions.mean(dim=0)"
   ]
  },
  {
   "cell_type": "code",
   "execution_count": 135,
   "id": "f22db3b4-cdf6-4e22-8261-1db56c37415b",
   "metadata": {},
   "outputs": [
    {
     "name": "stdout",
     "output_type": "stream",
     "text": [
      "tensor([ 0.0305, -0.2338,  0.0138, -0.1648, -0.3147, -0.0494, -0.2291, -0.0519,\n",
      "        -0.0080, -0.0749, -0.0486], dtype=torch.float64)\n",
      "['coat', 'D', 'Rc', 'l', 'lu', 'DN', 'Lf', 'Ds', 'z', 'Theta', 'HRC']\n"
     ]
    }
   ],
   "source": [
    "print(attr_summary)\n",
    "print(feature_col)"
   ]
  },
  {
   "cell_type": "markdown",
   "id": "d21b7270-c85c-4b63-bc89-0cfd2b93f0d3",
   "metadata": {},
   "source": [
    "# Random Forest"
   ]
  },
  {
   "cell_type": "code",
   "execution_count": 141,
   "id": "e4901be4-3c8c-4add-a56d-284ed2459845",
   "metadata": {},
   "outputs": [],
   "source": [
    "import sklearn\n",
    "from sklearn.ensemble import RandomForestRegressor"
   ]
  },
  {
   "cell_type": "code",
   "execution_count": 144,
   "id": "cba9f081-2a47-494a-842d-3464067047e3",
   "metadata": {},
   "outputs": [
    {
     "data": {
      "text/plain": [
       "RandomForestRegressor()"
      ]
     },
     "execution_count": 144,
     "metadata": {},
     "output_type": "execute_result"
    }
   ],
   "source": [
    "rf = RandomForestRegressor()\n",
    "rf.fit(dataset.features, dataset.targets[:, 0])"
   ]
  },
  {
   "cell_type": "code",
   "execution_count": 145,
   "id": "b7d5c217-a18d-4658-9a96-34ddeb8a1881",
   "metadata": {},
   "outputs": [],
   "source": [
    "importance = rf.feature_importances_"
   ]
  },
  {
   "cell_type": "code",
   "execution_count": 156,
   "id": "a0e69f3b-6e01-4f02-824a-8249d8d40d42",
   "metadata": {},
   "outputs": [],
   "source": [
    "pred = rf.predict(dataset.features)"
   ]
  },
  {
   "cell_type": "code",
   "execution_count": 158,
   "id": "72d67789-83cd-48f5-b2e7-b66f56d344be",
   "metadata": {},
   "outputs": [
    {
     "data": {
      "text/plain": [
       "array([0.99798463, 0.79846328, 1.        , 0.79846328, 1.        ,\n",
       "       0.79846328, 0.99596927, 0.79846328, 0.99798463, 0.79846328])"
      ]
     },
     "execution_count": 158,
     "metadata": {},
     "output_type": "execute_result"
    }
   ],
   "source": [
    "pred[:10]"
   ]
  },
  {
   "cell_type": "code",
   "execution_count": 159,
   "id": "c00139f2-ac3f-492a-911d-7d9073bbd8bb",
   "metadata": {},
   "outputs": [],
   "source": [
    "pred = torch.Tensor(pred) * (dataset.trans.y_max - dataset.trans.y_min) + dataset.trans.y_min\n",
    "targets = torch.Tensor(dataset.targets) * (dataset.trans.y_max - dataset.trans.y_min) + dataset.trans.y_min"
   ]
  },
  {
   "cell_type": "code",
   "execution_count": 160,
   "id": "50c59887-c1ac-4e03-9691-416b1176c649",
   "metadata": {},
   "outputs": [
    {
     "data": {
      "text/plain": [
       "tensor([39920., 32000., 40000., 32000., 40000., 32000., 39840., 32000., 39920.,\n",
       "        32000.])"
      ]
     },
     "execution_count": 160,
     "metadata": {},
     "output_type": "execute_result"
    }
   ],
   "source": [
    "pred[:10]"
   ]
  },
  {
   "cell_type": "code",
   "execution_count": 162,
   "id": "005af792-a8c9-4497-bc2a-53c770c81a3b",
   "metadata": {},
   "outputs": [
    {
     "data": {
      "text/plain": [
       "tensor([[40000.],\n",
       "        [32000.],\n",
       "        [40000.],\n",
       "        [32000.],\n",
       "        [40000.],\n",
       "        [32000.],\n",
       "        [40000.],\n",
       "        [32000.],\n",
       "        [40000.],\n",
       "        [32000.]])"
      ]
     },
     "execution_count": 162,
     "metadata": {},
     "output_type": "execute_result"
    }
   ],
   "source": [
    "targets[:10]"
   ]
  },
  {
   "cell_type": "code",
   "execution_count": 163,
   "id": "c990d908-6535-4c8e-89fb-19abc6d7fa25",
   "metadata": {},
   "outputs": [
    {
     "data": {
      "image/png": "[encoded data removed]",
      "text/plain": [
       "<Figure size 432x288 with 1 Axes>"
      ]
     },
     "metadata": {
      "needs_background": "light"
     },
     "output_type": "display_data"
    }
   ],
   "source": [
    "plt.figure()\n",
    "plt.locator_params(axis='y',nbins=6)\n",
    "plt.locator_params(axis='x',nbins=6)\n",
    "plt.xlabel(\"Catalog Value S [rpm]\", fontsize=18)\n",
    "plt.ylabel(\"Predicted Value S [rpm]\", fontsize=18)\n",
    "plt.scatter(targets, pred,\n",
    "            s=10,\n",
    "            facecolor='None',\n",
    "            edgecolor=\"black\",\n",
    "           )\n",
    "plt.plot((0, dataset.trans.y_max[0]), (0, dataset.trans.y_max[0]), c=\"red\")\n",
    "plt.grid()\n",
    "plt.tick_params(labelsize=18)\n",
    "plt.savefig(\"results/A-B-C_data_rf_6_3.png\", dpi=200, bbox_inches='tight', pad_inches=0.1)"
   ]
  },
  {
   "cell_type": "code",
   "execution_count": null,
   "id": "03e9858b-e446-40f1-8c22-ac1f12f04f74",
   "metadata": {},
   "outputs": [],
   "source": []
  }
 ],
 "metadata": {
  "kernelspec": {
   "display_name": "Python 3",
   "language": "python",
   "name": "python3"
  },
  "language_info": {
   "codemirror_mode": {
    "name": "ipython",
    "version": 3
   },
   "file_extension": ".py",
   "mimetype": "text/x-python",
   "name": "python",
   "nbconvert_exporter": "python",
   "pygments_lexer": "ipython3",
   "version": "3.8.10"
  }
 },
 "nbformat": 4,
 "nbformat_minor": 5
}
