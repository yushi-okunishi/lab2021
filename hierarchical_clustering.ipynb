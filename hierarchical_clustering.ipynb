{
 "cells": [
  {
   "cell_type": "code",
   "execution_count": 2,
   "id": "9482bf7f-9d06-4b68-8244-33f6e0e960fc",
   "metadata": {},
   "outputs": [],
   "source": [
    "import numpy as np\n",
    "import scipy as sp\n",
    "from minepy import MINE\n",
    "import pandas as pd\n",
    "\n",
    "from scipy.spatial.distance import pdist\n",
    "from scipy.cluster.hierarchy import dendrogram, linkage, ward"
   ]
  },
  {
   "cell_type": "code",
   "execution_count": 3,
   "id": "998fee28-c1ba-4469-81f3-bf61f0d0a942",
   "metadata": {},
   "outputs": [],
   "source": [
    "d_path =  \"../catalog_data/d1_soku.csv\"\n",
    "feature_col = [\n",
    "    \"coat\", \"D\", \"Rc\", \"l\", \"lu\", \"DN\", \"Lf\", \"Ds\",\n",
    "    \"z\", \"Theta\", \"HRC\"\n",
    "]\n",
    "df = pd.read_csv(d_path)\n",
    "df = df[feature_col].values"
   ]
  },
  {
   "cell_type": "code",
   "execution_count": null,
   "id": "5fd91175-92e0-4bce-aeaa-aae16c93f54e",
   "metadata": {},
   "outputs": [],
   "source": [
    "def calc_mic(a, b):\n",
    "    \"\"\"\n",
    "    Calculate MIC between Vector A and B\n",
    "    \"\"\"\n",
    "    mine = MINE()\n",
    "    mine.compute_score(a, b)\n",
    "    return (2 - mine.mic()) ** 0.5"
   ]
  },
  {
   "cell_type": "code",
   "execution_count": 25,
   "id": "efd27a84-cb4f-41f3-a3a0-518174d24571",
   "metadata": {
    "tags": []
   },
   "outputs": [
    {
     "name": "stderr",
     "output_type": "stream",
     "text": [
      "<ipython-input-22-ae6ef9ebb8dd>:6: DeprecationWarning: `np.float` is a deprecated alias for the builtin `float`. To silence this warning, use `float` by itself. Doing this will not modify any behavior and is safe. If you specifically wanted the numpy scalar type, use `np.float64` here.\n",
      "Deprecated in NumPy 1.20; for more details and guidance: https://numpy.org/devdocs/release/1.20.0-notes.html#deprecations\n",
      "  mine.compute_score(a, b)\n"
     ]
    }
   ],
   "source": [
    "#c = 0\n",
    "dists = []\n",
    "for i in range(df.shape[1]):\n",
    "    for j in range(i+1, df.shape[1]):\n",
    "        #print(pdist(df[:, [i, j]].T))\n",
    "        #print(dist[c])\n",
    "        #c+= 1\n",
    "        dists.append(calc_mic(df[:, i], df[:, j]))\n",
    "dists = np.array(dists)"
   ]
  },
  {
   "cell_type": "code",
   "execution_count": 28,
   "id": "2ad90302-18ab-463e-a583-4b0f4ab4a421",
   "metadata": {},
   "outputs": [],
   "source": [
    "Z = ward(dists)"
   ]
  },
  {
   "cell_type": "code",
   "execution_count": 29,
   "id": "18fe75c8-f27e-42f2-9e45-5dd6ea745398",
   "metadata": {},
   "outputs": [
    {
     "data": {
      "image/png": "[encoded data removed]",
      "text/plain": [
       "<Figure size 432x288 with 1 Axes>"
      ]
     },
     "metadata": {
      "needs_background": "light"
     },
     "output_type": "display_data"
    }
   ],
   "source": [
    "d = dendrogram(Z, labels=feature_col)"
   ]
  },
  {
   "cell_type": "code",
   "execution_count": null,
   "id": "ad9ed501-a415-4685-bf67-d96bb933348b",
   "metadata": {},
   "outputs": [],
   "source": []
  }
 ],
 "metadata": {
  "kernelspec": {
   "display_name": "Python 3",
   "language": "python",
   "name": "python3"
  },
  "language_info": {
   "codemirror_mode": {
    "name": "ipython",
    "version": 3
   },
   "file_extension": ".py",
   "mimetype": "text/x-python",
   "name": "python",
   "nbconvert_exporter": "python",
   "pygments_lexer": "ipython3",
   "version": "3.8.10"
  }
 },
 "nbformat": 4,
 "nbformat_minor": 5
}
